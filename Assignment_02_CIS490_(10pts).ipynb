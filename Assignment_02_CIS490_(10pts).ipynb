{
  "nbformat": 4,
  "nbformat_minor": 0,
  "metadata": {
    "colab": {
      "name": "Assignment 02 - CIS490 (10pts)",
      "provenance": [],
      "collapsed_sections": [],
      "include_colab_link": true
    },
    "kernelspec": {
      "name": "python3",
      "display_name": "Python 3"
    },
    "language_info": {
      "name": "python"
    }
  },
  "cells": [
    {
      "cell_type": "markdown",
      "metadata": {
        "id": "view-in-github",
        "colab_type": "text"
      },
      "source": [
        "<a href=\"https://colab.research.google.com/github/Nigmac/cis490/blob/main/Assignment_02_CIS490_(10pts).ipynb\" target=\"_parent\"><img src=\"https://colab.research.google.com/assets/colab-badge.svg\" alt=\"Open In Colab\"/></a>"
      ]
    },
    {
      "cell_type": "markdown",
      "source": [
        "##(3 pts) Short questions\n",
        "\n",
        "Fill in short definitions/answers for each of the following:\n",
        "\n",
        "**observation space** - what the agent can \"see\" around it. \n",
        "**action space** - available actions of the agent. \n",
        "**agent** - Anything that can interact. \n",
        "\n",
        "For MountainCar,  \n",
        "* Is the observation space continuous or discrete?  - continuous.\n",
        "\n",
        "* How many dimensions is it? - 1 dimension, as the car just follows the line.\n",
        "\n",
        "* Is the action space continuous or discrete? - discrete."
      ],
      "metadata": {
        "id": "ncGUy0G9lrPv"
      }
    },
    {
      "cell_type": "markdown",
      "source": [
        "## (3pts) Open loop agent. \n",
        "In the following cell, implement your open loop agent. You must not use the observation return variable. I will run it ten times to determine the average number of iterations to reach the top. (The lowest average in the class gets a bonus point.)"
      ],
      "metadata": {
        "id": "1AL91QWXdHSd"
      }
    },
    {
      "cell_type": "code",
      "source": [
        "# Run this cell once to allow playable videos to be created\n",
        "# Make sure it says SUCCESS after running, or rerun.\n",
        "\n",
        "!pip install gym pyvirtualdisplay > /dev/null 2>&1\n",
        "!apt-get install -y xvfb python-opengl ffmpeg > /dev/null 2>&1\n",
        "# install some helper functions to allow playing render videos in colab\n",
        "import gym\n",
        "from gym.wrappers import Monitor\n",
        "import glob\n",
        "import io\n",
        "import base64\n",
        "from IPython.display import HTML\n",
        "from pyvirtualdisplay import Display\n",
        "from IPython import display as ipythondisplay\n",
        "\n",
        "display = Display(visible=0, size=(1400, 900))\n",
        "display.start()\n",
        "\n",
        "\"\"\"\n",
        "Utility functions to enable video recording of gym environment \n",
        "and displaying it.\n",
        "To enable video, just do \"env = wrap_env(env)\"\"\n",
        "\"\"\"\n",
        "\n",
        "def show_video():\n",
        "  mp4list = glob.glob('video/*.mp4')\n",
        "  if len(mp4list) > 0:\n",
        "    mp4 = mp4list[0]\n",
        "    video = io.open(mp4, 'r+b').read()\n",
        "    encoded = base64.b64encode(video)\n",
        "    ipythondisplay.display(HTML(data='''<video alt=\"test\" autoplay \n",
        "                loop controls style=\"height: 400px;\">\n",
        "                <source src=\"data:video/mp4;base64,{0}\" type=\"video/mp4\" />\n",
        "             </video>'''.format(encoded.decode('ascii'))))\n",
        "  else: \n",
        "    print(\"Could not find video\")\n",
        "    \n",
        "\n",
        "def wrap_env(env):\n",
        "  env = Monitor(env, './video', force=True)\n",
        "  return env\n",
        "\n",
        "print('SUCCESS!')"
      ],
      "metadata": {
        "id": "CuHe7CrSo5Hg",
        "outputId": "9fc9ca70-adc5-4e79-9623-1b01cd49d6d8",
        "colab": {
          "base_uri": "https://localhost:8080/"
        }
      },
      "execution_count": 2,
      "outputs": [
        {
          "output_type": "stream",
          "name": "stdout",
          "text": [
            "SUCCESS!\n"
          ]
        }
      ]
    },
    {
      "cell_type": "code",
      "source": [
        "# YOUR OPEN-LOOP AGENT GOES HERE (YOU SHOULD NOT USE observation FOR THE\n",
        "# OPEN LOOP AGENT)\n",
        "env = wrap_env(gym.make(\"MountainCar-v0\"))\n",
        "observation = env.reset()\n",
        "# observation is a two dimensional tuple that contains the position and \n",
        "# speed. The initial position and speed is not (0,0) but rather there is\n",
        "# a small random starting position and speed.\n",
        "\n",
        "step_i = 0  # use this variable as a counter for each step taken\n",
        "\n",
        "while True:    \n",
        "    env.render()\n",
        "    \n",
        "    #--------------------------------------------\n",
        "    # your agent goes here (change the code here)\n",
        "    # currently the action is randomly sampled from the action space\n",
        "    #action = env.action_space.sample()\n",
        "    if step_i <= 34:\n",
        "      action = 0\n",
        "    if step_i > 35:\n",
        "      action = 2\n",
        "    \n",
        "    \n",
        "    \n",
        "       \n",
        "    \n",
        "\n",
        "    #-------------------------------------------\n",
        "\n",
        "    # The following line calls the environment simulator with the\n",
        "    # specified action. It runs the physics simulator for one time\n",
        "    # step, and returns the observation, reward, done, and info. \n",
        "    # For our purposes, we are only interested in observation and done.\n",
        "    # done is a bool, that is true if the car reaches the flag and is\n",
        "    # false otherwise. \n",
        "    observation, reward, done, info = env.step(action) \n",
        "    step_i = step_i + 1\n",
        " \n",
        "    # if car reaches the flag, exit the loop\n",
        "    if done: \n",
        "      break;\n",
        "\n",
        "print('------------------------\\nDONE')\n",
        "print('# steps taken: ', step_i)\n",
        "env.close()\n",
        "show_video()\n"
      ],
      "metadata": {
        "id": "wqBIzit6r08l",
        "outputId": "3dbc0b60-ac10-4afd-f82a-8b972f8b3459",
        "colab": {
          "base_uri": "https://localhost:8080/",
          "height": 473
        }
      },
      "execution_count": 8,
      "outputs": [
        {
          "output_type": "stream",
          "name": "stdout",
          "text": [
            "------------------------\n",
            "DONE\n",
            "# steps taken:  84\n"
          ]
        },
        {
          "output_type": "display_data",
          "data": {
            "text/html": [
              "<video alt=\"test\" autoplay \n",
              "                loop controls style=\"height: 400px;\">\n",
              "                <source src=\"data:video/mp4;base64,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\" type=\"video/mp4\" />\n",
              "             </video>"
            ],
            "text/plain": [
              "<IPython.core.display.HTML object>"
            ]
          },
          "metadata": {}
        }
      ]
    },
    {
      "cell_type": "markdown",
      "source": [
        "## (4pts) Closed-loop agent. \n",
        "In the following cell, implement your closed-loop agent. You must make use of the observation variable in a meaningful way. I will run it ten times to determine the average number of iterations to reach the top. (The lowest average in the class gets a bonus point.)"
      ],
      "metadata": {
        "id": "NkVxRQTLd0tR"
      }
    },
    {
      "cell_type": "code",
      "source": [
        ""
      ],
      "metadata": {
        "id": "anxotd5839q6"
      },
      "execution_count": null,
      "outputs": []
    },
    {
      "cell_type": "code",
      "source": [
        "# YOUR OPEN-LOOP AGENT GOES HERE (YOU SHOULD NOT USE observation FOR THE\n",
        "# OPEN LOOP AGENT)\n",
        "env = wrap_env(gym.make(\"MountainCar-v0\"))\n",
        "observation = env.reset()\n",
        "# observation is a two dimensional tuple that contains the position and \n",
        "# speed. The initial position and speed is not (0,0) but rather there is\n",
        "# a small random starting position and speed.\n",
        "\n",
        "step_i = 0  # use this variable as a counter for each step taken\n",
        "\n",
        "while True:    \n",
        "    env.render()\n",
        "    \n",
        "    #--------------------------------------------\n",
        "    # your agent goes here (change the code here)\n",
        "    # currently the action is randomly sampled from the action space\n",
        "    #action = env.action_space.sample()\n",
        "    if step_i <= 34:\n",
        "      action = 0\n",
        "    if step_i > 35:\n",
        "      action = 2\n",
        "    \n",
        "    \n",
        "    \n",
        "       \n",
        "    \n",
        "\n",
        "    #-------------------------------------------\n",
        "\n",
        "    # The following line calls the environment simulator with the\n",
        "    # specified action. It runs the physics simulator for one time\n",
        "    # step, and returns the observation, reward, done, and info. \n",
        "    # For our purposes, we are only interested in observation and done.\n",
        "    # done is a bool, that is true if the car reaches the flag and is\n",
        "    # false otherwise. \n",
        "    observation, reward, done, info = env.step(action) \n",
        "    step_i = step_i + 1\n",
        " \n",
        "    # if car reaches the flag, exit the loop\n",
        "    if done: \n",
        "      break;\n",
        "\n",
        "print('------------------------\\nDONE')\n",
        "print('# steps taken: ', step_i)\n",
        "env.close()\n",
        "show_video()\n"
      ],
      "metadata": {
        "outputId": "8223143b-b1bf-49f6-8697-d73ec5b2e89f",
        "colab": {
          "base_uri": "https://localhost:8080/",
          "height": 235
        },
        "id": "MQr7OO7i3-K_"
      },
      "execution_count": 4,
      "outputs": [
        {
          "output_type": "error",
          "ename": "NameError",
          "evalue": "ignored",
          "traceback": [
            "\u001b[0;31m---------------------------------------------------------------------------\u001b[0m",
            "\u001b[0;31mNameError\u001b[0m                                 Traceback (most recent call last)",
            "\u001b[0;32m<ipython-input-4-e130bad7019b>\u001b[0m in \u001b[0;36m<module>\u001b[0;34m()\u001b[0m\n\u001b[1;32m      1\u001b[0m \u001b[0;31m# YOUR OPEN-LOOP AGENT GOES HERE (YOU SHOULD NOT USE observation FOR THE\u001b[0m\u001b[0;34m\u001b[0m\u001b[0;34m\u001b[0m\u001b[0;34m\u001b[0m\u001b[0m\n\u001b[1;32m      2\u001b[0m \u001b[0;31m# OPEN LOOP AGENT)\u001b[0m\u001b[0;34m\u001b[0m\u001b[0;34m\u001b[0m\u001b[0;34m\u001b[0m\u001b[0m\n\u001b[0;32m----> 3\u001b[0;31m \u001b[0menv\u001b[0m \u001b[0;34m=\u001b[0m \u001b[0mwrap_env\u001b[0m\u001b[0;34m(\u001b[0m\u001b[0mgym\u001b[0m\u001b[0;34m.\u001b[0m\u001b[0mmake\u001b[0m\u001b[0;34m(\u001b[0m\u001b[0;34m\"MountainCar-v0\"\u001b[0m\u001b[0;34m)\u001b[0m\u001b[0;34m)\u001b[0m\u001b[0;34m\u001b[0m\u001b[0;34m\u001b[0m\u001b[0m\n\u001b[0m\u001b[1;32m      4\u001b[0m \u001b[0mobservation\u001b[0m \u001b[0;34m=\u001b[0m \u001b[0menv\u001b[0m\u001b[0;34m.\u001b[0m\u001b[0mreset\u001b[0m\u001b[0;34m(\u001b[0m\u001b[0;34m)\u001b[0m\u001b[0;34m\u001b[0m\u001b[0;34m\u001b[0m\u001b[0m\n\u001b[1;32m      5\u001b[0m \u001b[0;31m# observation is a two dimensional tuple that contains the position and\u001b[0m\u001b[0;34m\u001b[0m\u001b[0;34m\u001b[0m\u001b[0;34m\u001b[0m\u001b[0m\n",
            "\u001b[0;31mNameError\u001b[0m: name 'wrap_env' is not defined"
          ]
        }
      ]
    }
  ]
}